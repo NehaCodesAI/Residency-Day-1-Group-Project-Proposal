{
 "cells": [
  {
   "cell_type": "code",
   "execution_count": 13,
   "id": "924bf275",
   "metadata": {},
   "outputs": [
    {
     "name": "stdout",
     "output_type": "stream",
     "text": [
      "Error: Response ended prematurely\n"
     ]
    }
   ],
   "source": [
    "import requests\n",
    "\n",
    "url = \"http://127.0.0.1:5001/ask\"\n",
    "payload = {\"question\": \"What are the visa requirements for the US?\", \"country\": \"US\"}\n",
    "\n",
    "try:\n",
    "    response = requests.post(url, json=payload, timeout=60)\n",
    "    response.raise_for_status()\n",
    "    print(response.text)\n",
    "except requests.exceptions.RequestException as e:\n",
    "    print(f\"Error: {e}\")"
   ]
  },
  {
   "cell_type": "code",
   "execution_count": 1,
   "id": "33711c2e",
   "metadata": {},
   "outputs": [],
   "source": [
    "from src.workflow import *"
   ]
  },
  {
   "cell_type": "code",
   "execution_count": 2,
   "id": "e9e05def",
   "metadata": {},
   "outputs": [],
   "source": [
    "question = \"I am a Chinese student. Do I need to apply for a visa to study in the US?\"\n",
    "country = \"US\"\n",
    "model = \"gpt-4o\""
   ]
  },
  {
   "cell_type": "code",
   "execution_count": 3,
   "id": "fc98bc30",
   "metadata": {},
   "outputs": [
    {
     "name": "stderr",
     "output_type": "stream",
     "text": [
      "INFO:httpx:HTTP Request: POST https://api.openai.com/v1/chat/completions \"HTTP/1.1 200 OK\"\n"
     ]
    }
   ],
   "source": [
    "results = visa_question_answering_batch(question, country, model=model)"
   ]
  },
  {
   "cell_type": "code",
   "execution_count": 4,
   "id": "d485b35e",
   "metadata": {},
   "outputs": [
    {
     "data": {
      "text/plain": [
       "'Yes, as a Chinese student, you will need to apply for a student visa to study in the United States. There are primarily two types of student visas for the U.S.: the F-1 visa and the M-1 visa.\\n\\n- **F-1 Visa**: This is the most common type of student visa and is for academic studies. If you are planning to attend a university, college, high school, private elementary school, seminary, conservatory, or another academic institution, including a language training program, you\\'ll likely need an F-1 visa.\\n\\n- **M-1 Visa**: This visa is for students attending non-academic or vocational training in the U.S.\\n\\nHere\\'s a step-by-step guide to help you with the application process:\\n\\n1. **Receive your I-20 Form**: First, you must be accepted into an accredited U.S. school that is approved by the Student and Exchange Visitor Program (SEVP). Once accepted, your school will provide you with a Form I-20, \"Certificate of Eligibility for Nonimmigrant Student Status.\"\\n\\n2. **Pay the SEVIS Fee**: After receiving the I-20, you will need to pay the Student and Exchange Visitor Information System (SEVIS) fee.\\n\\n3. **Complete the DS-160 Form**: Fill out the Online Nonimmigrant Visa Application form DS-160. Ensure all information is correct and consistent with your documentation.\\n\\n4. **Schedule a Visa Interview**: You must schedule an interview at a U.S. Embassy or Consulate in China. It’s advisable to do this as soon as possible because wait times can vary.\\n\\n5. **Pay the Visa Application Fee**: Ensure you\\'ve paid the visa application fee before your interview.\\n\\n6. **Prepare for Your Interview**: Gather necessary documents such as your passport, DS-160 confirmation page, visa appointment confirmation, SEVIS fee receipt, and any financial evidence showing you can pay for your education and living expenses in the U.S.\\n\\n7. **Attend the Visa Interview**: During your interview, you will need to demonstrate your intent to return to China after your studies, your ability to fund your education, and how it fits your academic or career goals.\\n\\nGiven the complexities and potential changes in policies, I recommend visiting the official U.S. Department of State or U.S. Embassy in China websites for the most current information and guidelines. Please feel free to reach out if you have any more questions!'"
      ]
     },
     "execution_count": 4,
     "metadata": {},
     "output_type": "execute_result"
    }
   ],
   "source": [
    "results "
   ]
  },
  {
   "cell_type": "code",
   "execution_count": 9,
   "id": "30530dc8",
   "metadata": {},
   "outputs": [],
   "source": [
    "for word in results:\n",
    "    print(word, end=' ', flush=True)"
   ]
  },
  {
   "cell_type": "code",
   "execution_count": 39,
   "id": "3208d436",
   "metadata": {},
   "outputs": [],
   "source": [
    "import yaml\n",
    "\n",
    "# Open and read the YAML file\n",
    "with open(\"./src/visa.yaml\", encoding=\"utf-8\") as f:\n",
    "    prompts_data = yaml.safe_load(f)\n"
   ]
  },
  {
   "cell_type": "code",
   "execution_count": null,
   "id": "8f28730c",
   "metadata": {},
   "outputs": [],
   "source": [
    "system_prompt = prompts_data.get('system_prompt', '')\n",
    "user_prompt = prompts_data.get('user_prompt', '')\n",
    "\n",
    "system_prompt_populated = system_prompt.replace(\"<country>\", \"US\")\n",
    "user_prompt_populated = user_prompt.replace(\"<question>\", \"How long does it take to get a H-1B visa?\")\n",
    "\n"
   ]
  },
  {
   "cell_type": "code",
   "execution_count": 41,
   "id": "b629d7ec",
   "metadata": {},
   "outputs": [
    {
     "data": {
      "text/plain": [
       "True"
      ]
     },
     "execution_count": 41,
     "metadata": {},
     "output_type": "execute_result"
    }
   ],
   "source": [
    "from dotenv import load_dotenv\n",
    "load_dotenv()"
   ]
  },
  {
   "cell_type": "code",
   "execution_count": 42,
   "id": "98ac38c1",
   "metadata": {},
   "outputs": [],
   "source": [
    "import os\n",
    "# Retrieve API key from environment variables\n",
    "api_key = os.getenv(\"OPENAI_API_KEY\")\n",
    "if not api_key:\n",
    "    raise ValueError(\"OPENAI_API_KEY is not set.\")"
   ]
  },
  {
   "cell_type": "code",
   "execution_count": null,
   "id": "27b52ee0",
   "metadata": {},
   "outputs": [
    {
     "name": "stdout",
     "output_type": "stream",
     "text": [
      "The processing time for an H-1B visa in the United States can vary depending on several factors:\n",
      "\n",
      "1. **Regular Processing**: Typically, the regular processing time for an H-1B visa application ranges from 3 to 6 months. This timeframe can be affected by the workload at the U.S. Citizenship and Immigration Services (USCIS) service center handling the application.\n",
      "\n",
      "2. **Premium Processing**: If your petitioner opts for premium processing, an additional fee is paid, and the USCIS guarantees a decision (approval, denial, or a request for further evidence) within 15 calendar days. This is a faster option if time is of the essence.\n",
      "\n",
      "3. **Cap Season**: If you are applying during the annual H-1B cap season, it may take longer due to the volume of applications. The cap season typically opens in early April, and selection is based on a lottery system.\n",
      "\n",
      "4. **RFE (Request for Evidence)**: If the USCIS requires more information to make a decision, they will issue an RFE, which can delay processing. Applicants need to respond to RFEs promptly to avoid further delays.\n",
      "\n",
      "It's important to start the application process as early as possible, especially if you need the visa by a certain date. Always keep track of the latest updates from the USCIS, as processing times and procedures can change.\n"
     ]
    }
   ],
   "source": [
    "from openai import OpenAI\n",
    "client = OpenAI()\n",
    "\n",
    "completion = client.chat.completions.create(\n",
    "    model=\"gpt-4o\",\n",
    "        messages = [\n",
    "            {\"role\": \"system\", \"content\": system_prompt_populated},\n",
    "            {\"role\": \"user\", \"content\": user_prompt_populated},\n",
    "        ]\n",
    ")\n",
    "\n",
    "output = completion.choices[0].message.content"
   ]
  },
  {
   "cell_type": "code",
   "execution_count": null,
   "id": "44d834b1",
   "metadata": {},
   "outputs": [],
   "source": []
  },
  {
   "cell_type": "code",
   "execution_count": 24,
   "id": "bdbc27d8",
   "metadata": {},
   "outputs": [],
   "source": [
    "import requests\n",
    "import configparser\n",
    "\n",
    "# Get token saved in .env\n",
    "config = configparser.ConfigParser()\n",
    "config.read(\".env\")\n",
    "TOKEN = config.get('CREATE_AI', 'API_KEY')\n",
    "\n",
    "api_url = \"https://api-main-beta.aiml.asu.edu/queryV2\"\n",
    "\n",
    "headers = {\n",
    "    \"Authorization\": f\"Bearer {TOKEN}\",\n",
    "    \"Content-Type\": \"application/json\"\n",
    "}"
   ]
  },
  {
   "cell_type": "code",
   "execution_count": null,
   "id": "c7d15e10",
   "metadata": {},
   "outputs": [],
   "source": [
    "\n"
   ]
  },
  {
   "cell_type": "code",
   "execution_count": 26,
   "id": "44e85bfe",
   "metadata": {},
   "outputs": [],
   "source": [
    "system_prompt = prompts_data.get('system_prompt', '')\n",
    "user_prompt = prompts_data.get('user_prompt', '')"
   ]
  },
  {
   "cell_type": "code",
   "execution_count": 27,
   "id": "32ef4f1d",
   "metadata": {},
   "outputs": [
    {
     "data": {
      "text/plain": [
       "'[ROLE]:\\nYou are an experienced immigration lawyer. You are an expert in answering questions about immigration policy and visa application processes in <country>.\\n[TASK]:\\nThe user will ask you questions about immmigration policy and visa application processes in different countries, particularly US, Canada, and the UK. You will provide accurate and detailed answers based on your expertise.\\n\\n\\n[GUIDELINES]\\nUse simple and clear language to explain complex legal concepts.\\nProvide step-by-step guidance for visa application processes.\\nEnsure that your answers are up-to-date with the latest. \\n\\n[OUTPUT]:\\nPrint the best answer you can provide in text format. Do not include any irrelevant information. \\n'"
      ]
     },
     "execution_count": 27,
     "metadata": {},
     "output_type": "execute_result"
    }
   ],
   "source": [
    "system_prompt"
   ]
  },
  {
   "cell_type": "code",
   "execution_count": 28,
   "id": "efcb5275",
   "metadata": {},
   "outputs": [
    {
     "data": {
      "text/plain": [
       "'\\n<question>'"
      ]
     },
     "execution_count": 28,
     "metadata": {},
     "output_type": "execute_result"
    }
   ],
   "source": [
    "user_prompt"
   ]
  },
  {
   "cell_type": "code",
   "execution_count": 29,
   "id": "b81e9e11",
   "metadata": {},
   "outputs": [],
   "source": [
    "system_prompt_populated = system_prompt.replace(\"<country>\", \"US\")\n",
    "user_prompt_populated = user_prompt.replace(\"<question>\", \"How long does it take to get a H-1B visa?\")"
   ]
  },
  {
   "cell_type": "code",
   "execution_count": 30,
   "id": "7ebf71d4",
   "metadata": {},
   "outputs": [],
   "source": [
    "prompt_updated = f\"{system_prompt_populated}\\n{user_prompt_populated}\""
   ]
  },
  {
   "cell_type": "code",
   "execution_count": 31,
   "id": "a67d8f03",
   "metadata": {},
   "outputs": [
    {
     "data": {
      "text/plain": [
       "'[ROLE]:\\nYou are an experienced immigration lawyer. You are an expert in answering questions about immigration policy and visa application processes in US.\\n[TASK]:\\nThe user will ask you questions about immmigration policy and visa application processes in different countries, particularly US, Canada, and the UK. You will provide accurate and detailed answers based on your expertise.\\n\\n\\n[GUIDELINES]\\nUse simple and clear language to explain complex legal concepts.\\nProvide step-by-step guidance for visa application processes.\\nEnsure that your answers are up-to-date with the latest. \\n\\n[OUTPUT]:\\nPrint the best answer you can provide in text format. Do not include any irrelevant information. \\n\\n\\nHow long does it take to get a H-1B visa?'"
      ]
     },
     "execution_count": 31,
     "metadata": {},
     "output_type": "execute_result"
    }
   ],
   "source": [
    "prompt_updated"
   ]
  },
  {
   "cell_type": "code",
   "execution_count": null,
   "id": "e51bfccb",
   "metadata": {},
   "outputs": [],
   "source": []
  },
  {
   "cell_type": "code",
   "execution_count": 32,
   "id": "0c2ccc7c",
   "metadata": {},
   "outputs": [],
   "source": [
    "# format the prompt with the text\n",
    "payload = {\"query\": prompt_updated,\n",
    "    \"model_provider\": \"openai\",\n",
    "    \"model_name\": \"gpt4o\"}\n",
    "\n",
    "\n",
    "\n"
   ]
  },
  {
   "cell_type": "code",
   "execution_count": 33,
   "id": "d840a862",
   "metadata": {},
   "outputs": [
    {
     "data": {
      "text/plain": [
       "{'query': '[ROLE]:\\nYou are an experienced immigration lawyer. You are an expert in answering questions about immigration policy and visa application processes in US.\\n[TASK]:\\nThe user will ask you questions about immmigration policy and visa application processes in different countries, particularly US, Canada, and the UK. You will provide accurate and detailed answers based on your expertise.\\n\\n\\n[GUIDELINES]\\nUse simple and clear language to explain complex legal concepts.\\nProvide step-by-step guidance for visa application processes.\\nEnsure that your answers are up-to-date with the latest. \\n\\n[OUTPUT]:\\nPrint the best answer you can provide in text format. Do not include any irrelevant information. \\n\\n\\nHow long does it take to get a H-1B visa?',\n",
       " 'model_provider': 'openai',\n",
       " 'model_name': 'gpt4o'}"
      ]
     },
     "execution_count": 33,
     "metadata": {},
     "output_type": "execute_result"
    }
   ],
   "source": [
    "payload"
   ]
  },
  {
   "cell_type": "code",
   "execution_count": 34,
   "id": "4aa86ed7",
   "metadata": {},
   "outputs": [],
   "source": [
    "response = requests.post(api_url, json=payload, headers=headers)"
   ]
  },
  {
   "cell_type": "code",
   "execution_count": 35,
   "id": "f019e5ab",
   "metadata": {},
   "outputs": [
    {
     "data": {
      "text/plain": [
       "{'response': \"I'm here to help improve the cohesion of persuasive essays. If you have a persuasive essay that you'd like me to review and revise for better cohesion, please share it with me. I'll provide a detailed analysis and suggest revisions to enhance the flow and connectivity of your arguments.\",\n",
       " 'metadata': {'sources': {'sources': []},\n",
       "  'query_id': '28104adaf1fd41fd8f065674b86e3472',\n",
       "  'usage_metric': {'input_token_count': 1236,\n",
       "   'output_token_count': 56,\n",
       "   'total_token_count': 1292,\n",
       "   'input_token_cost': \"Decimal('0.00618')\",\n",
       "   'output_token_cost': \"Decimal('0.00084')\",\n",
       "   'total_token_cost': \"Decimal('0.00702')\"}}}"
      ]
     },
     "execution_count": 35,
     "metadata": {},
     "output_type": "execute_result"
    }
   ],
   "source": [
    "response.json()"
   ]
  },
  {
   "cell_type": "code",
   "execution_count": null,
   "id": "f227a4ec",
   "metadata": {},
   "outputs": [],
   "source": [
    "if response.status_code != 200:\n",
    "    unprocessed_files.append(base_name)\n",
    "\n",
    "output = response.json()"
   ]
  }
 ],
 "metadata": {
  "kernelspec": {
   "display_name": ".venv",
   "language": "python",
   "name": "python3"
  },
  "language_info": {
   "codemirror_mode": {
    "name": "ipython",
    "version": 3
   },
   "file_extension": ".py",
   "mimetype": "text/x-python",
   "name": "python",
   "nbconvert_exporter": "python",
   "pygments_lexer": "ipython3",
   "version": "3.11.8"
  }
 },
 "nbformat": 4,
 "nbformat_minor": 5
}
